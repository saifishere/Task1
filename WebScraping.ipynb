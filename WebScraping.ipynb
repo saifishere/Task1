{
 "cells": [
  {
   "cell_type": "markdown",
   "id": "f1ef77ea",
   "metadata": {},
   "source": [
    "# Data Scrapping Using BeautifulSoup "
   ]
  },
  {
   "cell_type": "code",
   "execution_count": 1,
   "id": "ab852359",
   "metadata": {},
   "outputs": [],
   "source": [
    "# importing required libraries/framework\n",
    "\n",
    "import sys\n",
    "import requests\n",
    "from bs4 import BeautifulSoup\n",
    "import re"
   ]
  },
  {
   "cell_type": "code",
   "execution_count": 2,
   "id": "90a61abc",
   "metadata": {},
   "outputs": [],
   "source": [
    "# function to get the Address\n",
    "df = {'Address':[]}\n",
    "def getAddress(url):\n",
    "    url = requests.get(url)\n",
    "    soup = BeautifulSoup(url.content, 'html.parser')\n",
    "    address = '-'\n",
    "    for para in soup.find_all(\"div\", class_=\"adr\"):\n",
    "        if para:\n",
    "            address = (para.get_text())\n",
    "        df['Address'].append(address)"
   ]
  },
  {
   "cell_type": "code",
   "execution_count": 3,
   "id": "516aa194",
   "metadata": {},
   "outputs": [
    {
     "data": {
      "text/plain": [
       "' def getPrinciple(url):\\n        url = requests.get(url)\\n        soup = BeautifulSoup(url.content, \\'html.parser\\')\\n        principle = \\'-\\'\\n        for para in soup.find_all(\"p\", class_=\"name\"):\\n            if para:\\n                principle = (para.get_text())\\n\\n        df[\"Principle\"].append(principle)'"
      ]
     },
     "execution_count": 3,
     "metadata": {},
     "output_type": "execute_result"
    }
   ],
   "source": [
    "#### function to get the Principle name(Optional Code)\n",
    "\n",
    "\"\"\" def getPrinciple(url):\n",
    "        url = requests.get(url)\n",
    "        soup = BeautifulSoup(url.content, 'html.parser')\n",
    "        principle = '-'\n",
    "        for para in soup.find_all(\"p\", class_=\"name\"):\n",
    "            if para:\n",
    "                principle = (para.get_text())\n",
    "\n",
    "        df[\"Principle\"].append(principle)\"\"\""
   ]
  },
  {
   "cell_type": "code",
   "execution_count": 4,
   "id": "35137942",
   "metadata": {},
   "outputs": [],
   "source": [
    "import pandas as pd\n",
    "import numpy as np\n",
    "data = pd.read_csv('data.csv')"
   ]
  },
  {
   "cell_type": "code",
   "execution_count": 5,
   "id": "0dadf4a0",
   "metadata": {},
   "outputs": [
    {
     "data": {
      "text/html": [
       "<div>\n",
       "<style scoped>\n",
       "    .dataframe tbody tr th:only-of-type {\n",
       "        vertical-align: middle;\n",
       "    }\n",
       "\n",
       "    .dataframe tbody tr th {\n",
       "        vertical-align: top;\n",
       "    }\n",
       "\n",
       "    .dataframe thead th {\n",
       "        text-align: right;\n",
       "    }\n",
       "</style>\n",
       "<table border=\"1\" class=\"dataframe\">\n",
       "  <thead>\n",
       "    <tr style=\"text-align: right;\">\n",
       "      <th></th>\n",
       "      <th>,</th>\n",
       "      <th>COLLEGE NAME</th>\n",
       "      <th>WEBSITE</th>\n",
       "      <th>ADRESS</th>\n",
       "    </tr>\n",
       "  </thead>\n",
       "  <tbody>\n",
       "    <tr>\n",
       "      <th>0</th>\n",
       "      <td>1</td>\n",
       "      <td>Abhinava Bharathi College of Pharmacy, Mandya</td>\n",
       "      <td>NaN</td>\n",
       "      <td>NaN</td>\n",
       "    </tr>\n",
       "    <tr>\n",
       "      <th>1</th>\n",
       "      <td>2</td>\n",
       "      <td>Academy Of Management Studies, Hyderabad</td>\n",
       "      <td>http://www.useams.org/</td>\n",
       "      <td>NaN</td>\n",
       "    </tr>\n",
       "    <tr>\n",
       "      <th>2</th>\n",
       "      <td>3</td>\n",
       "      <td>Academy Of Mass Communication, Lucknow</td>\n",
       "      <td>https://www.amclko.org/</td>\n",
       "      <td>NaN</td>\n",
       "    </tr>\n",
       "    <tr>\n",
       "      <th>3</th>\n",
       "      <td>4</td>\n",
       "      <td>Acharaya Shri Chander College Of Medical Scien...</td>\n",
       "      <td>http://ascomscollege.com/</td>\n",
       "      <td>NaN</td>\n",
       "    </tr>\n",
       "    <tr>\n",
       "      <th>4</th>\n",
       "      <td>5</td>\n",
       "      <td>Acharya Institutes of Science &amp; Management, Ba...</td>\n",
       "      <td>https://www.acharya.ac.in/</td>\n",
       "      <td>NaN</td>\n",
       "    </tr>\n",
       "    <tr>\n",
       "      <th>...</th>\n",
       "      <td>...</td>\n",
       "      <td>...</td>\n",
       "      <td>...</td>\n",
       "      <td>...</td>\n",
       "    </tr>\n",
       "    <tr>\n",
       "      <th>495</th>\n",
       "      <td>496</td>\n",
       "      <td>Maulana Azad Institute Of Dental Sciences, New...</td>\n",
       "      <td>http://maids.ac.in/</td>\n",
       "      <td>NaN</td>\n",
       "    </tr>\n",
       "    <tr>\n",
       "      <th>496</th>\n",
       "      <td>497</td>\n",
       "      <td>Mawlai Presbyterian College, Shillong</td>\n",
       "      <td>http://mawlaipresbyteriancollege.org/</td>\n",
       "      <td>NaN</td>\n",
       "    </tr>\n",
       "    <tr>\n",
       "      <th>497</th>\n",
       "      <td>498</td>\n",
       "      <td>Mawsynram Border Area College, Mawsynram</td>\n",
       "      <td>http://www.mawsynramborderareacollege.com/</td>\n",
       "      <td>NaN</td>\n",
       "    </tr>\n",
       "    <tr>\n",
       "      <th>498</th>\n",
       "      <td>499</td>\n",
       "      <td>Mayai Lambi College, Imphal</td>\n",
       "      <td>http://www.mayailambicollege.in/</td>\n",
       "      <td>NaN</td>\n",
       "    </tr>\n",
       "    <tr>\n",
       "      <th>499</th>\n",
       "      <td>500</td>\n",
       "      <td>MBTS Govt Polytechnic, GUNTUR</td>\n",
       "      <td>NaN</td>\n",
       "      <td>NaN</td>\n",
       "    </tr>\n",
       "  </tbody>\n",
       "</table>\n",
       "<p>500 rows × 4 columns</p>\n",
       "</div>"
      ],
      "text/plain": [
       "       ,                                       COLLEGE NAME  \\\n",
       "0      1      Abhinava Bharathi College of Pharmacy, Mandya   \n",
       "1      2           Academy Of Management Studies, Hyderabad   \n",
       "2      3             Academy Of Mass Communication, Lucknow   \n",
       "3      4  Acharaya Shri Chander College Of Medical Scien...   \n",
       "4      5  Acharya Institutes of Science & Management, Ba...   \n",
       "..   ...                                                ...   \n",
       "495  496  Maulana Azad Institute Of Dental Sciences, New...   \n",
       "496  497              Mawlai Presbyterian College, Shillong   \n",
       "497  498           Mawsynram Border Area College, Mawsynram   \n",
       "498  499                        Mayai Lambi College, Imphal   \n",
       "499  500                      MBTS Govt Polytechnic, GUNTUR   \n",
       "\n",
       "                                        WEBSITE  ADRESS  \n",
       "0                                           NaN     NaN  \n",
       "1                        http://www.useams.org/     NaN  \n",
       "2                       https://www.amclko.org/     NaN  \n",
       "3                     http://ascomscollege.com/     NaN  \n",
       "4                    https://www.acharya.ac.in/     NaN  \n",
       "..                                          ...     ...  \n",
       "495                         http://maids.ac.in/     NaN  \n",
       "496       http://mawlaipresbyteriancollege.org/     NaN  \n",
       "497  http://www.mawsynramborderareacollege.com/     NaN  \n",
       "498            http://www.mayailambicollege.in/     NaN  \n",
       "499                                         NaN     NaN  \n",
       "\n",
       "[500 rows x 4 columns]"
      ]
     },
     "execution_count": 5,
     "metadata": {},
     "output_type": "execute_result"
    }
   ],
   "source": [
    "data"
   ]
  },
  {
   "cell_type": "code",
   "execution_count": 6,
   "id": "d627e495",
   "metadata": {},
   "outputs": [],
   "source": [
    "urls = data.WEBSITE"
   ]
  },
  {
   "cell_type": "code",
   "execution_count": 7,
   "id": "bfc2948e",
   "metadata": {},
   "outputs": [
    {
     "data": {
      "text/plain": [
       "0                                             NaN\n",
       "1                          http://www.useams.org/\n",
       "2                         https://www.amclko.org/\n",
       "3                       http://ascomscollege.com/\n",
       "4                      https://www.acharya.ac.in/\n",
       "                          ...                    \n",
       "495                           http://maids.ac.in/\n",
       "496         http://mawlaipresbyteriancollege.org/\n",
       "497    http://www.mawsynramborderareacollege.com/\n",
       "498              http://www.mayailambicollege.in/\n",
       "499                                           NaN\n",
       "Name: WEBSITE, Length: 500, dtype: object"
      ]
     },
     "execution_count": 7,
     "metadata": {},
     "output_type": "execute_result"
    }
   ],
   "source": [
    "urls"
   ]
  },
  {
   "cell_type": "code",
   "execution_count": 8,
   "id": "4a1b671c",
   "metadata": {},
   "outputs": [
    {
     "data": {
      "text/plain": [
       "38"
      ]
     },
     "execution_count": 8,
     "metadata": {},
     "output_type": "execute_result"
    }
   ],
   "source": [
    "# checking total null values\n",
    "\n",
    "urls.isnull().sum()"
   ]
  },
  {
   "cell_type": "code",
   "execution_count": 9,
   "id": "6bb09d17",
   "metadata": {},
   "outputs": [],
   "source": [
    "urls = urls.fillna(0)"
   ]
  },
  {
   "cell_type": "code",
   "execution_count": 13,
   "id": "3ecabe34",
   "metadata": {},
   "outputs": [
    {
     "name": "stdout",
     "output_type": "stream",
     "text": [
      "http://www.useams.org/\n",
      "https://www.amclko.org/\n",
      "http://ascomscollege.com/\n",
      "https://www.acharya.ac.in/\n",
      "https://pgcollegekawardha.edu.in/\n",
      "http://acmecollege.com/\n",
      "http://www.adarshcollegeedu.co.in/ContactUs.aspx\n",
      "http://www.adhiyamaanpolytech.in/\n",
      "https://www.aec.edu.in/\n",
      "http://www.adityatekkali.edu.in/\n",
      "https://www.asci.org.in/\n",
      "http://www.agmc.nic.in/\n",
      "https://www.ainsahmedabad.org/\n",
      "https://atc.edu.in/\n",
      "https://ammcollege.in/\n",
      "ConnectionError\n",
      "https://alhafeezcollege.org/\n",
      "https://alipurduarcollege.ac.in/\n",
      "https://www.aiimsjodhpur.edu.in/\n",
      "https://aiimsbhopal.edu.in/index_controller/index\n",
      "ConnectionError\n",
      "http://www.aceatech.com/\n",
      "http://actripura.edu.in/\n",
      "ConnectionError\n",
      "https://aimsbschool.org/\n",
      "ConnectionError\n",
      "https://www.amity.edu/jaipur/abs/\n",
      "http://amjadalikhancollege.edu.in/\n",
      "http://ampatidegreecollege.in/\n",
      "https://www.accommercejpg.org/\n",
      "https://www.actrainingcollege.org/\n",
      "http://www.actc.edu.in/\n",
      "http://www.andhraloyolacollege.ac.in/\n",
      "http://www.amc.edu.in/\n",
      "https://www.indcareer.com/andhra-pradesh/visakhapatnam/www.anits.edu.in\n",
      "http://anushreecollege.com/home.php\n",
      "http://apscollegeofnursing.com/\n",
      "http://www.aqjpgstudies.org/\n",
      "http://www.arghpharmacy.ac.in/\n",
      "http://www.arafatrust.org/arafa_arts_science.html\n",
      "https://aimri.in/\n",
      "http://www.samcpatna.org/\n",
      "ConnectionError\n",
      "http://www.apied.edu.in/\n",
      "https://www.aryamgt.ac.in/\n",
      "http://aryanedu.com/\n",
      "http://www.aryavartgyan.com/\n",
      "ConnectionError\n",
      "http://ashaacademy.org/\n",
      "https://www.asadi.edu.in/\n",
      "http://sriasnmgdcpalakol.in/\n",
      "ConnectionError\n"
     ]
    }
   ],
   "source": [
    "i = 0\n",
    "for url in urls:\n",
    "    i += 1\n",
    "    if i == 50:\n",
    "        break\n",
    "    if url != 0:\n",
    "        print(url)\n",
    "        try:\n",
    "            getAddress(str(url))\n",
    "        except:\n",
    "            print('ConnectionError')"
   ]
  },
  {
   "cell_type": "code",
   "execution_count": 14,
   "id": "67d5ac87",
   "metadata": {},
   "outputs": [
    {
     "data": {
      "text/plain": [
       "{'Address': ['2nd Floor, Manzil Chambers,Mehdipatnam X Roads, HYD500028',\n",
       "  '2nd Floor, Manzil Chambers,Mehdipatnam X Roads, HYD500028']}"
      ]
     },
     "execution_count": 14,
     "metadata": {},
     "output_type": "execute_result"
    }
   ],
   "source": [
    "df"
   ]
  },
  {
   "cell_type": "code",
   "execution_count": 16,
   "id": "2fbbd0e1",
   "metadata": {},
   "outputs": [],
   "source": [
    "new_df = pd.DataFrame.from_dict(df)"
   ]
  },
  {
   "cell_type": "code",
   "execution_count": 17,
   "id": "873cac4a",
   "metadata": {},
   "outputs": [
    {
     "data": {
      "text/html": [
       "<div>\n",
       "<style scoped>\n",
       "    .dataframe tbody tr th:only-of-type {\n",
       "        vertical-align: middle;\n",
       "    }\n",
       "\n",
       "    .dataframe tbody tr th {\n",
       "        vertical-align: top;\n",
       "    }\n",
       "\n",
       "    .dataframe thead th {\n",
       "        text-align: right;\n",
       "    }\n",
       "</style>\n",
       "<table border=\"1\" class=\"dataframe\">\n",
       "  <thead>\n",
       "    <tr style=\"text-align: right;\">\n",
       "      <th></th>\n",
       "      <th>Address</th>\n",
       "    </tr>\n",
       "  </thead>\n",
       "  <tbody>\n",
       "    <tr>\n",
       "      <th>0</th>\n",
       "      <td>2nd Floor, Manzil Chambers,Mehdipatnam X Roads...</td>\n",
       "    </tr>\n",
       "    <tr>\n",
       "      <th>1</th>\n",
       "      <td>2nd Floor, Manzil Chambers,Mehdipatnam X Roads...</td>\n",
       "    </tr>\n",
       "  </tbody>\n",
       "</table>\n",
       "</div>"
      ],
      "text/plain": [
       "                                             Address\n",
       "0  2nd Floor, Manzil Chambers,Mehdipatnam X Roads...\n",
       "1  2nd Floor, Manzil Chambers,Mehdipatnam X Roads..."
      ]
     },
     "execution_count": 17,
     "metadata": {},
     "output_type": "execute_result"
    }
   ],
   "source": [
    "new_df"
   ]
  },
  {
   "cell_type": "code",
   "execution_count": null,
   "id": "87e7b116",
   "metadata": {},
   "outputs": [],
   "source": []
  }
 ],
 "metadata": {
  "kernelspec": {
   "display_name": "Python 3 (ipykernel)",
   "language": "python",
   "name": "python3"
  },
  "language_info": {
   "codemirror_mode": {
    "name": "ipython",
    "version": 3
   },
   "file_extension": ".py",
   "mimetype": "text/x-python",
   "name": "python",
   "nbconvert_exporter": "python",
   "pygments_lexer": "ipython3",
   "version": "3.9.13"
  }
 },
 "nbformat": 4,
 "nbformat_minor": 5
}
